{
 "cells": [
  {
   "cell_type": "code",
   "execution_count": 1,
   "metadata": {},
   "outputs": [],
   "source": [
    "from rockstar import *"
   ]
  },
  {
   "cell_type": "code",
   "execution_count": 2,
   "metadata": {},
   "outputs": [
    {
     "data": {
      "text/plain": [
       "'Put \"meaning\" into my love \\n'"
      ]
     },
     "execution_count": 2,
     "metadata": {},
     "output_type": "execute_result"
    }
   ],
   "source": [
    "a = iter(open('test.rock').readlines())\n",
    "next(a)"
   ]
  },
  {
   "cell_type": "code",
   "execution_count": 4,
   "metadata": {},
   "outputs": [
    {
     "name": "stdout",
     "output_type": "stream",
     "text": [
      "1.0\n",
      "2.0\n",
      "{'type': 'variable', 'value': 'a star'}\n"
     ]
    },
    {
     "data": {
      "text/plain": [
       "[{'type': 'operator', 'value': 'say'},\n",
       " {'type': 'variable', 'value': 'my soul'}]"
      ]
     },
     "execution_count": 4,
     "metadata": {},
     "output_type": "execute_result"
    }
   ],
   "source": [
    "rk = \"\"\"\n",
    "Put 1 into a star\n",
    "Put 2 into a violin\n",
    "Shout a star\n",
    "Shout a violin\n",
    "Put a star plus a violin into my soul\n",
    "Shout my soul\n",
    "\"\"\"\n",
    "it = iter(rk.split('\\n'))\n",
    "processTextBlock(next(it, \"\"), it, {'variables' : {}}, isTopLevelBlock=True)"
   ]
  },
  {
   "cell_type": "code",
   "execution_count": null,
   "metadata": {},
   "outputs": [],
   "source": []
  }
 ],
 "metadata": {
  "kernelspec": {
   "display_name": "Python 3",
   "language": "python",
   "name": "python3"
  },
  "language_info": {
   "codemirror_mode": {
    "name": "ipython",
    "version": 3
   },
   "file_extension": ".py",
   "mimetype": "text/x-python",
   "name": "python",
   "nbconvert_exporter": "python",
   "pygments_lexer": "ipython3",
   "version": "3.6.5"
  }
 },
 "nbformat": 4,
 "nbformat_minor": 2
}
